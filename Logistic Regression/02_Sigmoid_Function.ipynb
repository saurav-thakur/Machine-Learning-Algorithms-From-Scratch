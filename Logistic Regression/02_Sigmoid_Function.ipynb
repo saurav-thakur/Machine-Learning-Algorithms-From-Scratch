{
 "cells": [
  {
   "cell_type": "code",
   "execution_count": 1,
   "metadata": {},
   "outputs": [],
   "source": [
    "import numpy as np\n",
    "import pandas as pd\n",
    "import matplotlib.pyplot as plt\n",
    "import seaborn as sns\n",
    "from sklearn.metrics import accuracy_score,f1_score\n",
    "from sklearn.datasets import make_classification\n",
    "from sklearn.linear_model import LogisticRegression\n",
    "from sklearn.model_selection import train_test_split"
   ]
  },
  {
   "cell_type": "code",
   "execution_count": 2,
   "metadata": {},
   "outputs": [],
   "source": [
    "X,y = make_classification(n_samples=1000,n_features=10,n_classes=2,random_state=41)\n",
    "X_train,X_test,y_train,y_test = train_test_split(X,y,test_size=0.2,random_state=41)"
   ]
  },
  {
   "cell_type": "code",
   "execution_count": 90,
   "metadata": {},
   "outputs": [],
   "source": [
    "np.random.seed(12)\n",
    "class LogisticRegressionFromScratch:\n",
    "    def __init__(self,epochs=1000,learning_rate=0.1):\n",
    "        self.epochs = epochs\n",
    "        self.learning_rate = learning_rate\n",
    "        self.weights = None\n",
    "        self.intercept = None\n",
    "\n",
    "    def fit(self,X,y):\n",
    "        X = np.insert(X,0,1,axis=1)\n",
    "        weights = np.ones(X.shape[1])\n",
    "        lr = 0.1\n",
    "        \n",
    "        for i in range(self.epochs):\n",
    "            j = np.random.randint(0,X.shape[0])\n",
    "            y_hat = self.sigmoid(np.dot(X[j],weights))\n",
    "            weights = weights + lr*(y[j]-y_hat)*X[j]\n",
    "\n",
    "        self.intercept = weights[0]\n",
    "        self.weights = weights[1:]\n",
    "\n",
    "    def predict(self,X):\n",
    "        prediction = np.dot(X,self.weights) + self.intercept\n",
    "        sigmoid = self.sigmoid(prediction)\n",
    "        return sigmoid\n",
    "    \n",
    "    def sigmoid(self,z):\n",
    "       return 1 / (1 + np.exp(-z))"
   ]
  },
  {
   "cell_type": "code",
   "execution_count": 91,
   "metadata": {},
   "outputs": [],
   "source": [
    "lr = LogisticRegressionFromScratch()\n",
    "lr.fit(X_train,y_train)"
   ]
  },
  {
   "cell_type": "code",
   "execution_count": 92,
   "metadata": {},
   "outputs": [
    {
     "data": {
      "text/plain": [
       "array([ 0.34501425, -0.03310091,  2.23125096, -0.46352313,  0.8341727 ,\n",
       "        1.10358659,  0.04112805, -0.35126248, -0.28509209, -0.2432212 ])"
      ]
     },
     "execution_count": 92,
     "metadata": {},
     "output_type": "execute_result"
    }
   ],
   "source": [
    "lr.weights"
   ]
  },
  {
   "cell_type": "code",
   "execution_count": 93,
   "metadata": {},
   "outputs": [],
   "source": [
    "y_pred = lr.predict(X_test)\n",
    "y_pred = [0 if i < 0.5 else 1 for i in y_pred]"
   ]
  },
  {
   "cell_type": "code",
   "execution_count": 94,
   "metadata": {},
   "outputs": [
    {
     "name": "stdout",
     "output_type": "stream",
     "text": [
      "Accuracy Score: 0.88\n",
      "F1 Score: 0.8709677419354839\n"
     ]
    }
   ],
   "source": [
    "\n",
    "print(f\"Accuracy Score: {accuracy_score(y_test,y_pred)}\")\n",
    "print(f\"F1 Score: {f1_score(y_test,y_pred)}\")"
   ]
  },
  {
   "cell_type": "code",
   "execution_count": null,
   "metadata": {},
   "outputs": [],
   "source": []
  }
 ],
 "metadata": {
  "kernelspec": {
   "display_name": "base",
   "language": "python",
   "name": "python3"
  },
  "language_info": {
   "codemirror_mode": {
    "name": "ipython",
    "version": 3
   },
   "file_extension": ".py",
   "mimetype": "text/x-python",
   "name": "python",
   "nbconvert_exporter": "python",
   "pygments_lexer": "ipython3",
   "version": "3.12.8"
  }
 },
 "nbformat": 4,
 "nbformat_minor": 2
}
