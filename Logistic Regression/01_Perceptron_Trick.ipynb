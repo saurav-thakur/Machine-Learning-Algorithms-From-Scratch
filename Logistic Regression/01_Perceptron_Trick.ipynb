{
 "cells": [
  {
   "cell_type": "code",
   "execution_count": 3,
   "metadata": {},
   "outputs": [],
   "source": [
    "import numpy as np\n",
    "import pandas as pd\n",
    "import matplotlib.pyplot as plt\n",
    "import seaborn as sns\n",
    "from sklearn.metrics import accuracy_score,f1_score\n",
    "from sklearn.datasets import make_classification\n",
    "from sklearn.linear_model import LogisticRegression\n",
    "from sklearn.model_selection import train_test_split"
   ]
  },
  {
   "cell_type": "code",
   "execution_count": 4,
   "metadata": {},
   "outputs": [],
   "source": [
    "X,y = make_classification(n_samples=1000,n_features=10,n_classes=2,random_state=41)\n",
    "X_train,X_test,y_train,y_test = train_test_split(X,y,test_size=0.2,random_state=41)"
   ]
  },
  {
   "cell_type": "code",
   "execution_count": 83,
   "metadata": {},
   "outputs": [],
   "source": [
    "np.random.seed(12)\n",
    "class LogisticRegressionFromScratch:\n",
    "    def __init__(self,epochs=10000,learning_rate=1):\n",
    "        self.epochs = epochs\n",
    "        self.learning_rate = learning_rate\n",
    "        self.intercept = None\n",
    "        self.weights = None\n",
    "\n",
    "    def step(self,z):\n",
    "        final_ans = []\n",
    "        predictions = z.flatten()\n",
    "        for i in predictions:\n",
    "            if i <= 0:\n",
    "                final_ans.append(0)\n",
    "            else:\n",
    "                final_ans.append(1)\n",
    "        \n",
    "        return np.array(final_ans)\n",
    "    \n",
    "    def predict(self,X):\n",
    "        pred = np.dot(X,self.weights) + self.intercept\n",
    "        return self.step(pred)\n",
    "    \n",
    "    \n",
    "    def fit(self,X,y):\n",
    "        X = np.insert(X,0,1,axis=1)\n",
    "        weights = np.ones(X.shape[1])\n",
    "        \n",
    "        for i in range(self.epochs):\n",
    "            j = np.random.randint(0,X.shape[0])\n",
    "            y_hat = self.step(np.dot(X[j],weights))\n",
    "            weights = weights + self.learning_rate*(y[j]-y_hat)*X[j]\n",
    "\n",
    "        self.weights = weights[1:]\n",
    "        self.intercept = weights[0]"
   ]
  },
  {
   "cell_type": "code",
   "execution_count": 84,
   "metadata": {},
   "outputs": [],
   "source": [
    "lr = LogisticRegressionFromScratch()\n",
    "lr.fit(X_train,y_train)"
   ]
  },
  {
   "cell_type": "code",
   "execution_count": 85,
   "metadata": {},
   "outputs": [
    {
     "data": {
      "text/plain": [
       "array([-0.37057001, -0.68133035,  6.74018902,  1.54742519, -0.09135716,\n",
       "        2.1258072 , -0.41761788, -0.02419897,  0.54520798,  1.86633661])"
      ]
     },
     "execution_count": 85,
     "metadata": {},
     "output_type": "execute_result"
    }
   ],
   "source": [
    "lr.weights"
   ]
  },
  {
   "cell_type": "code",
   "execution_count": 89,
   "metadata": {},
   "outputs": [],
   "source": [
    "y_pred = lr.predict(X_test)"
   ]
  },
  {
   "cell_type": "code",
   "execution_count": 87,
   "metadata": {},
   "outputs": [
    {
     "data": {
      "text/plain": [
       "(200, 10)"
      ]
     },
     "execution_count": 87,
     "metadata": {},
     "output_type": "execute_result"
    }
   ],
   "source": [
    "X_test.shape"
   ]
  },
  {
   "cell_type": "code",
   "execution_count": 88,
   "metadata": {},
   "outputs": [
    {
     "name": "stdout",
     "output_type": "stream",
     "text": [
      "Accuracy Score: 0.855\n",
      "F1 Score: 0.8449197860962567\n"
     ]
    }
   ],
   "source": [
    "print(f\"Accuracy Score: {accuracy_score(y_test,y_pred)}\")\n",
    "print(f\"F1 Score: {f1_score(y_test,y_pred)}\")"
   ]
  },
  {
   "cell_type": "code",
   "execution_count": null,
   "metadata": {},
   "outputs": [],
   "source": []
  }
 ],
 "metadata": {
  "kernelspec": {
   "display_name": "base",
   "language": "python",
   "name": "python3"
  },
  "language_info": {
   "codemirror_mode": {
    "name": "ipython",
    "version": 3
   },
   "file_extension": ".py",
   "mimetype": "text/x-python",
   "name": "python",
   "nbconvert_exporter": "python",
   "pygments_lexer": "ipython3",
   "version": "3.12.8"
  }
 },
 "nbformat": 4,
 "nbformat_minor": 2
}
