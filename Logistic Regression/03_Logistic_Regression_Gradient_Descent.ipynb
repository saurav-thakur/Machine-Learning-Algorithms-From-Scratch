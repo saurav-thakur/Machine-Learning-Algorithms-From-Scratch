{
 "cells": [
  {
   "cell_type": "code",
   "execution_count": 1,
   "metadata": {},
   "outputs": [],
   "source": [
    "import numpy as np\n",
    "from sklearn.metrics import accuracy_score,f1_score\n",
    "from sklearn.datasets import make_classification\n",
    "from sklearn.linear_model import LogisticRegression\n",
    "from sklearn.model_selection import train_test_split"
   ]
  },
  {
   "cell_type": "code",
   "execution_count": 2,
   "metadata": {},
   "outputs": [],
   "source": [
    "X,y = make_classification(n_samples=1000,n_features=10,n_classes=2,random_state=41)\n",
    "X_train,X_test,y_train,y_test = train_test_split(X,y,test_size=0.2,random_state=41)"
   ]
  },
  {
   "cell_type": "code",
   "execution_count": 43,
   "metadata": {},
   "outputs": [],
   "source": [
    "np.random.seed(12)\n",
    "class LogisticRegressionFromScratch:\n",
    "    def __init__(self, epochs=1000,learning_rate=0.01,):\n",
    "        self.epochs = epochs\n",
    "        self.learning_rate = learning_rate\n",
    "        self.weights = None\n",
    "        self.intercept = None\n",
    "\n",
    "    def sigmoid(self,z):\n",
    "        return (1/(1+np.exp(-z)))\n",
    "    \n",
    "    def predict_proba(self, X):\n",
    "        \"\"\"Predict probabilities.\"\"\"\n",
    "        # Add a column of ones to X for the intercept term\n",
    "        X_with_bias = np.insert(X, 0, 1, axis=1)\n",
    "        # Compute the linear combination of weights and inputs\n",
    "        linear_output = np.dot(X_with_bias, np.insert(self.weights, 0, self.intercept))\n",
    "        # Apply the sigmoid function to get probabilities\n",
    "        return self.sigmoid(linear_output)\n",
    "    \n",
    "    def predict(self, X, threshold=0.5):\n",
    "        probabilities = self.predict_proba(X)\n",
    "        return (probabilities >= threshold).astype(int)\n",
    "\n",
    "    def fit(self,X,y):\n",
    "        X = np.insert(X,0,1,axis=1)\n",
    "        m = len(X)\n",
    "        weights = np.ones(shape=(X.shape[1]))\n",
    "\n",
    "        for i in range(self.epochs):\n",
    "            forward = np.dot(X,weights)\n",
    "            y_hat = self.sigmoid(forward)\n",
    "            dl_weights = -1/m * np.dot((y - y_hat),X)\n",
    "            weights = weights - self.learning_rate * dl_weights\n",
    "\n",
    "        self.weights = weights[1:]\n",
    "        self.intercept = weights[0]"
   ]
  },
  {
   "cell_type": "code",
   "execution_count": 44,
   "metadata": {},
   "outputs": [],
   "source": [
    "lr = LogisticRegressionFromScratch()\n",
    "lr.fit(X_train,y_train)"
   ]
  },
  {
   "cell_type": "code",
   "execution_count": 45,
   "metadata": {},
   "outputs": [
    {
     "data": {
      "text/plain": [
       "array([0.27689646, 0.38285299, 1.87860716, 0.34382485, 0.93002233,\n",
       "       0.97624158, 0.32829953, 0.38825573, 0.1799277 , 0.28634505])"
      ]
     },
     "execution_count": 45,
     "metadata": {},
     "output_type": "execute_result"
    }
   ],
   "source": [
    "lr.weights"
   ]
  },
  {
   "cell_type": "code",
   "execution_count": 46,
   "metadata": {},
   "outputs": [],
   "source": [
    "y_pred = lr.predict(X_test)"
   ]
  },
  {
   "cell_type": "code",
   "execution_count": 47,
   "metadata": {},
   "outputs": [
    {
     "name": "stdout",
     "output_type": "stream",
     "text": [
      "Accuracy Score: 0.83\n",
      "F1 Score: 0.83\n"
     ]
    }
   ],
   "source": [
    "\n",
    "print(f\"Accuracy Score: {accuracy_score(y_test,y_pred)}\")\n",
    "print(f\"F1 Score: {f1_score(y_test,y_pred)}\")"
   ]
  },
  {
   "cell_type": "code",
   "execution_count": null,
   "metadata": {},
   "outputs": [],
   "source": []
  }
 ],
 "metadata": {
  "kernelspec": {
   "display_name": "base",
   "language": "python",
   "name": "python3"
  },
  "language_info": {
   "codemirror_mode": {
    "name": "ipython",
    "version": 3
   },
   "file_extension": ".py",
   "mimetype": "text/x-python",
   "name": "python",
   "nbconvert_exporter": "python",
   "pygments_lexer": "ipython3",
   "version": "3.12.8"
  }
 },
 "nbformat": 4,
 "nbformat_minor": 2
}
