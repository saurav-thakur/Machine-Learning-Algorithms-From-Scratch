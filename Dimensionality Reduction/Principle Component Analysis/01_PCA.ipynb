{
 "cells": [
  {
   "cell_type": "code",
   "execution_count": 5,
   "metadata": {},
   "outputs": [],
   "source": [
    "import numpy as np\n",
    "import pandas as pd\n",
    "from sklearn.datasets import make_classification\n",
    "from sklearn.linear_model import LogisticRegression\n",
    "from sklearn.preprocessing import StandardScaler"
   ]
  },
  {
   "cell_type": "code",
   "execution_count": 3,
   "metadata": {},
   "outputs": [],
   "source": [
    "X,y = make_classification(n_samples=1000,n_features=50,n_classes=2)\n"
   ]
  },
  {
   "cell_type": "code",
   "execution_count": 35,
   "metadata": {},
   "outputs": [],
   "source": [
    "import numpy as np\n",
    "from sklearn.preprocessing import StandardScaler\n",
    "\n",
    "class PCAFromScratch:\n",
    "    def __init__(self, dimension):\n",
    "\n",
    "        self.dimension = dimension\n",
    "        self.principal_components = None  # To store the selected eigenvectors\n",
    "        self.mean = None  # To store the mean of the data for transformation\n",
    "        self.std = None  # To store the standard deviation of the data for transformation\n",
    "\n",
    "    def fit(self, X):\n",
    "\n",
    "        # Step 1: Standardize the data\n",
    "        self.mean = np.mean(X, axis=0)\n",
    "        self.std = np.std(X, axis=0)\n",
    "        X_std = (X - self.mean) / self.std\n",
    "\n",
    "        # Step 2: Compute the covariance matrix\n",
    "        cov_mat = np.cov(X_std, rowvar=False)\n",
    "\n",
    "        # Step 3: Perform eigen decomposition\n",
    "        eigenvalues, eigenvectors = np.linalg.eig(cov_mat)\n",
    "\n",
    "        # Step 4: Sort eigenvalues and eigenvectors in descending order\n",
    "        sorted_indices = np.argsort(eigenvalues)[::-1]\n",
    "        sorted_eigenvalues = eigenvalues[sorted_indices]\n",
    "        sorted_eigenvectors = eigenvectors[:, sorted_indices]\n",
    "\n",
    "        # Step 5: Select the top k eigenvectors (principal components)\n",
    "        self.principal_components = sorted_eigenvectors[:, :self.dimension]\n",
    "\n",
    "    def transform(self, X):\n",
    "\n",
    "        # Standardize the data using the mean and std from the training data\n",
    "        X_std = (X - self.mean) / self.std\n",
    "\n",
    "        # Project the data onto the principal components\n",
    "        return np.dot(X_std, self.principal_components)\n",
    "\n",
    "    def fit_transform(self, X):\n",
    "        \n",
    "        self.fit(X)\n",
    "        return self.transform(X)"
   ]
  },
  {
   "cell_type": "code",
   "execution_count": 36,
   "metadata": {},
   "outputs": [
    {
     "data": {
      "text/plain": [
       "(1000, 3)"
      ]
     },
     "execution_count": 36,
     "metadata": {},
     "output_type": "execute_result"
    }
   ],
   "source": [
    "pca = PCAFromScratch(dimension=3)\n",
    "pca.fit(X)\n",
    "trf = pca.transform(X)\n",
    "trf.shape"
   ]
  },
  {
   "cell_type": "code",
   "execution_count": null,
   "metadata": {},
   "outputs": [],
   "source": []
  }
 ],
 "metadata": {
  "kernelspec": {
   "display_name": "base",
   "language": "python",
   "name": "python3"
  },
  "language_info": {
   "codemirror_mode": {
    "name": "ipython",
    "version": 3
   },
   "file_extension": ".py",
   "mimetype": "text/x-python",
   "name": "python",
   "nbconvert_exporter": "python",
   "pygments_lexer": "ipython3",
   "version": "3.12.8"
  }
 },
 "nbformat": 4,
 "nbformat_minor": 2
}
